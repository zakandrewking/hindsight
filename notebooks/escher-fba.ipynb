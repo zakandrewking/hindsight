{
 "cells": [
  {
   "cell_type": "code",
   "execution_count": 3,
   "metadata": {},
   "outputs": [],
   "source": [
    "from hindsight import download_or_load_model_me_placeholder\n",
    "from hindsight.pathways import add_heterologous_pathway"
   ]
  },
  {
   "cell_type": "code",
   "execution_count": 4,
   "metadata": {},
   "outputs": [],
   "source": [
    "import cobra"
   ]
  },
  {
   "cell_type": "code",
   "execution_count": 11,
   "metadata": {},
   "outputs": [],
   "source": [
    "for name, pathway in [('Shen2013', 'ilvA, kivD, ADH2, cimA, leuBCD'), ('Atsumi2008', '1_propanol_adh2_kivd_ilva_leu')]:\n",
    "    model = download_or_load_model_me_placeholder('iJO1366')\n",
    "    new_model = add_heterologous_pathway(model, pathway)\n",
    "    new_model.objective = new_model.reactions.EX_1poh_e\n",
    "    cobra.io.save_json_model(new_model, 'iJO1366_{name}.json'.format(name=name))"
   ]
  },
  {
   "cell_type": "code",
   "execution_count": null,
   "metadata": {},
   "outputs": [],
   "source": []
  }
 ],
 "metadata": {
  "kernelspec": {
   "display_name": "Python 3",
   "language": "python",
   "name": "python3"
  },
  "language_info": {
   "codemirror_mode": {
    "name": "ipython",
    "version": 2
   },
   "file_extension": ".py",
   "mimetype": "text/x-python",
   "name": "python",
   "nbconvert_exporter": "python",
   "pygments_lexer": "ipython2",
   "version": "2.7.15"
  }
 },
 "nbformat": 4,
 "nbformat_minor": 2
}
